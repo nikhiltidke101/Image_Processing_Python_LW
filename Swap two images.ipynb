{
 "cells": [
  {
   "cell_type": "code",
   "execution_count": 1,
   "metadata": {},
   "outputs": [],
   "source": [
    "import cv2"
   ]
  },
  {
   "cell_type": "code",
   "execution_count": 2,
   "metadata": {},
   "outputs": [],
   "source": [
    "import numpy"
   ]
  },
  {
   "cell_type": "code",
   "execution_count": 3,
   "metadata": {},
   "outputs": [],
   "source": [
    "apple = cv2.imread('apple.jfif')"
   ]
  },
  {
   "cell_type": "code",
   "execution_count": 4,
   "metadata": {},
   "outputs": [
    {
     "data": {
      "text/plain": [
       "array([[[253, 253, 253],\n",
       "        [253, 253, 253],\n",
       "        [253, 253, 253],\n",
       "        ...,\n",
       "        [253, 253, 253],\n",
       "        [253, 253, 253],\n",
       "        [253, 253, 253]],\n",
       "\n",
       "       [[253, 253, 253],\n",
       "        [253, 253, 253],\n",
       "        [253, 253, 253],\n",
       "        ...,\n",
       "        [253, 253, 253],\n",
       "        [253, 253, 253],\n",
       "        [253, 253, 253]],\n",
       "\n",
       "       [[253, 253, 253],\n",
       "        [253, 253, 253],\n",
       "        [253, 253, 253],\n",
       "        ...,\n",
       "        [253, 253, 253],\n",
       "        [253, 253, 253],\n",
       "        [253, 253, 253]],\n",
       "\n",
       "       ...,\n",
       "\n",
       "       [[253, 253, 253],\n",
       "        [253, 253, 253],\n",
       "        [253, 253, 253],\n",
       "        ...,\n",
       "        [253, 253, 253],\n",
       "        [253, 253, 253],\n",
       "        [253, 253, 253]],\n",
       "\n",
       "       [[253, 253, 253],\n",
       "        [253, 253, 253],\n",
       "        [253, 253, 253],\n",
       "        ...,\n",
       "        [253, 253, 253],\n",
       "        [253, 253, 253],\n",
       "        [253, 253, 253]],\n",
       "\n",
       "       [[253, 253, 253],\n",
       "        [253, 253, 253],\n",
       "        [253, 253, 253],\n",
       "        ...,\n",
       "        [253, 253, 253],\n",
       "        [253, 253, 253],\n",
       "        [253, 253, 253]]], dtype=uint8)"
      ]
     },
     "execution_count": 4,
     "metadata": {},
     "output_type": "execute_result"
    }
   ],
   "source": [
    "apple\n"
   ]
  },
  {
   "cell_type": "code",
   "execution_count": 5,
   "metadata": {},
   "outputs": [],
   "source": [
    "apple=cv2.resize(apple,(600,600))"
   ]
  },
  {
   "cell_type": "code",
   "execution_count": 6,
   "metadata": {},
   "outputs": [
    {
     "data": {
      "text/plain": [
       "(600, 600, 3)"
      ]
     },
     "execution_count": 6,
     "metadata": {},
     "output_type": "execute_result"
    }
   ],
   "source": [
    "apple.shape"
   ]
  },
  {
   "cell_type": "code",
   "execution_count": 7,
   "metadata": {},
   "outputs": [
    {
     "data": {
      "text/plain": [
       "-1"
      ]
     },
     "execution_count": 7,
     "metadata": {},
     "output_type": "execute_result"
    }
   ],
   "source": [
    "cv2.imshow('Apple',apple)\n",
    "cv2.waitKey(200)\n"
   ]
  },
  {
   "cell_type": "code",
   "execution_count": 8,
   "metadata": {},
   "outputs": [],
   "source": [
    "cv2.destroyAllWindows()"
   ]
  },
  {
   "cell_type": "code",
   "execution_count": 9,
   "metadata": {},
   "outputs": [],
   "source": [
    "orange = cv2.imread('orange.jfif')"
   ]
  },
  {
   "cell_type": "code",
   "execution_count": 10,
   "metadata": {},
   "outputs": [
    {
     "data": {
      "text/plain": [
       "array([[[14,  8,  1],\n",
       "        [14,  8,  1],\n",
       "        [14,  8,  1],\n",
       "        ...,\n",
       "        [15,  9,  2],\n",
       "        [15,  9,  2],\n",
       "        [15,  9,  2]],\n",
       "\n",
       "       [[14,  8,  1],\n",
       "        [14,  8,  1],\n",
       "        [14,  8,  1],\n",
       "        ...,\n",
       "        [15,  9,  2],\n",
       "        [15,  9,  2],\n",
       "        [15,  9,  2]],\n",
       "\n",
       "       [[14,  8,  1],\n",
       "        [14,  8,  1],\n",
       "        [14,  8,  1],\n",
       "        ...,\n",
       "        [15,  9,  2],\n",
       "        [15,  9,  2],\n",
       "        [15,  9,  2]],\n",
       "\n",
       "       ...,\n",
       "\n",
       "       [[14,  8,  1],\n",
       "        [14,  8,  1],\n",
       "        [14,  8,  1],\n",
       "        ...,\n",
       "        [14,  8,  1],\n",
       "        [13,  7,  0],\n",
       "        [13,  7,  0]],\n",
       "\n",
       "       [[14,  8,  1],\n",
       "        [14,  8,  1],\n",
       "        [14,  8,  1],\n",
       "        ...,\n",
       "        [14,  8,  1],\n",
       "        [13,  7,  0],\n",
       "        [13,  7,  0]],\n",
       "\n",
       "       [[14,  8,  1],\n",
       "        [14,  8,  1],\n",
       "        [14,  8,  1],\n",
       "        ...,\n",
       "        [14,  8,  1],\n",
       "        [13,  7,  0],\n",
       "        [13,  7,  0]]], dtype=uint8)"
      ]
     },
     "execution_count": 10,
     "metadata": {},
     "output_type": "execute_result"
    }
   ],
   "source": [
    "orange"
   ]
  },
  {
   "cell_type": "code",
   "execution_count": 11,
   "metadata": {},
   "outputs": [],
   "source": [
    "orange=cv2.resize(orange,(600,600))\n"
   ]
  },
  {
   "cell_type": "code",
   "execution_count": 12,
   "metadata": {},
   "outputs": [
    {
     "data": {
      "text/plain": [
       "(600, 600, 3)"
      ]
     },
     "execution_count": 12,
     "metadata": {},
     "output_type": "execute_result"
    }
   ],
   "source": [
    "orange.shape"
   ]
  },
  {
   "cell_type": "code",
   "execution_count": 13,
   "metadata": {},
   "outputs": [
    {
     "data": {
      "text/plain": [
       "-1"
      ]
     },
     "execution_count": 13,
     "metadata": {},
     "output_type": "execute_result"
    }
   ],
   "source": [
    "cv2.imshow('Orange',orange)\n",
    "cv2.waitKey(200)"
   ]
  },
  {
   "cell_type": "code",
   "execution_count": 14,
   "metadata": {},
   "outputs": [],
   "source": [
    "cv2.destroyAllWindows()"
   ]
  },
  {
   "cell_type": "code",
   "execution_count": 15,
   "metadata": {},
   "outputs": [],
   "source": [
    "apple [50:400,50:450] ,orange[100:500,50:490] = orange[50:400,50:450] ,apple[100:500,50:490]"
   ]
  },
  {
   "cell_type": "code",
   "execution_count": 16,
   "metadata": {},
   "outputs": [
    {
     "data": {
      "text/plain": [
       "-1"
      ]
     },
     "execution_count": 16,
     "metadata": {},
     "output_type": "execute_result"
    }
   ],
   "source": [
    "cv2.imshow('orange_final', orange)\n",
    "cv2.waitKey(100)"
   ]
  },
  {
   "cell_type": "code",
   "execution_count": 17,
   "metadata": {},
   "outputs": [
    {
     "data": {
      "text/plain": [
       "-1"
      ]
     },
     "execution_count": 17,
     "metadata": {},
     "output_type": "execute_result"
    }
   ],
   "source": [
    "cv2.imshow('apple_final', apple)\n",
    "cv2.waitKey(100)"
   ]
  },
  {
   "cell_type": "code",
   "execution_count": 18,
   "metadata": {},
   "outputs": [],
   "source": [
    "cv2.destroyAllWindows()"
   ]
  },
  {
   "cell_type": "code",
   "execution_count": null,
   "metadata": {},
   "outputs": [],
   "source": []
  }
 ],
 "metadata": {
  "kernelspec": {
   "display_name": "Python 3",
   "language": "python",
   "name": "python3"
  },
  "language_info": {
   "codemirror_mode": {
    "name": "ipython",
    "version": 3
   },
   "file_extension": ".py",
   "mimetype": "text/x-python",
   "name": "python",
   "nbconvert_exporter": "python",
   "pygments_lexer": "ipython3",
   "version": "3.8.5"
  }
 },
 "nbformat": 4,
 "nbformat_minor": 4
}
